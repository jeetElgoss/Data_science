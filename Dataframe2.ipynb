{
 "cells": [
  {
   "cell_type": "code",
   "execution_count": 1,
   "id": "06a81549-0d63-43b5-9a1e-6ea4e908f29a",
   "metadata": {},
   "outputs": [],
   "source": [
    "from pyspark.sql import SparkSession"
   ]
  },
  {
   "cell_type": "code",
   "execution_count": 2,
   "id": "48a541dc-8856-4d17-a435-a6a92d22b78f",
   "metadata": {},
   "outputs": [],
   "source": [
    "spark = SparkSession.builder.appName(\"Dataframe\").getOrCreate()"
   ]
  },
  {
   "cell_type": "code",
   "execution_count": 3,
   "id": "f6ac6740-6c30-463a-af9c-db98edd62303",
   "metadata": {},
   "outputs": [
    {
     "data": {
      "text/html": [
       "\n",
       "            <div>\n",
       "                <p><b>SparkSession - in-memory</b></p>\n",
       "                \n",
       "        <div>\n",
       "            <p><b>SparkContext</b></p>\n",
       "\n",
       "            <p><a href=\"http://DESKTOP-FCPPJHI.mshome.net:4040\">Spark UI</a></p>\n",
       "\n",
       "            <dl>\n",
       "              <dt>Version</dt>\n",
       "                <dd><code>v3.5.0</code></dd>\n",
       "              <dt>Master</dt>\n",
       "                <dd><code>local[*]</code></dd>\n",
       "              <dt>AppName</dt>\n",
       "                <dd><code>Dataframe</code></dd>\n",
       "            </dl>\n",
       "        </div>\n",
       "        \n",
       "            </div>\n",
       "        "
      ],
      "text/plain": [
       "<pyspark.sql.session.SparkSession at 0x1cced26fa30>"
      ]
     },
     "execution_count": 3,
     "metadata": {},
     "output_type": "execute_result"
    }
   ],
   "source": [
    "spark"
   ]
  },
  {
   "cell_type": "code",
   "execution_count": 4,
   "id": "eec5332e-f9c1-493f-a8cf-a3e8b7fd33f4",
   "metadata": {},
   "outputs": [],
   "source": [
    "df = spark.read.csv(\"student.csv\", header=True, inferSchema=True)"
   ]
  },
  {
   "cell_type": "code",
   "execution_count": 5,
   "id": "a7568935-96a1-4c7a-bd4d-55e34f6d18c7",
   "metadata": {},
   "outputs": [
    {
     "name": "stdout",
     "output_type": "stream",
     "text": [
      "+------+---+--------+-----+\n",
      "|  Name|Age|Subjects|Marks|\n",
      "+------+---+--------+-----+\n",
      "|  Jeet| 30|    Math|   40|\n",
      "|  Sonu| 50|    Math|   45|\n",
      "|Shivam| 23|    Math|   35|\n",
      "+------+---+--------+-----+\n",
      "\n"
     ]
    }
   ],
   "source": [
    "df.show()"
   ]
  },
  {
   "cell_type": "code",
   "execution_count": 6,
   "id": "97ed6741-2084-4f85-96a1-a5145c1b4346",
   "metadata": {},
   "outputs": [
    {
     "name": "stdout",
     "output_type": "stream",
     "text": [
      "+---+--------+-----+\n",
      "|Age|Subjects|Marks|\n",
      "+---+--------+-----+\n",
      "| 30|    Math|   40|\n",
      "| 50|    Math|   45|\n",
      "| 23|    Math|   35|\n",
      "+---+--------+-----+\n",
      "\n"
     ]
    }
   ],
   "source": [
    "df.drop(\"name\").show()"
   ]
  },
  {
   "cell_type": "code",
   "execution_count": 8,
   "id": "5ad4baa1-058c-446b-9cd8-1bb282f96648",
   "metadata": {},
   "outputs": [
    {
     "name": "stdout",
     "output_type": "stream",
     "text": [
      "+------+---+--------+-----+\n",
      "|  Name|Age|Subjects|Marks|\n",
      "+------+---+--------+-----+\n",
      "|  Jeet| 30|    Math|   40|\n",
      "|  Sonu| 50|    Math|   45|\n",
      "|Shivam| 23|    Math|   35|\n",
      "|  NULL| 34|    Math| NULL|\n",
      "+------+---+--------+-----+\n",
      "\n"
     ]
    }
   ],
   "source": [
    "df.show()"
   ]
  },
  {
   "cell_type": "code",
   "execution_count": null,
   "id": "eca567ec-16f1-4a6d-97cb-8eb94ec35dbd",
   "metadata": {},
   "outputs": [],
   "source": [
    "df."
   ]
  }
 ],
 "metadata": {
  "kernelspec": {
   "display_name": "venv",
   "language": "python",
   "name": "venv"
  },
  "language_info": {
   "codemirror_mode": {
    "name": "ipython",
    "version": 3
   },
   "file_extension": ".py",
   "mimetype": "text/x-python",
   "name": "python",
   "nbconvert_exporter": "python",
   "pygments_lexer": "ipython3",
   "version": "3.8.10"
  }
 },
 "nbformat": 4,
 "nbformat_minor": 5
}
