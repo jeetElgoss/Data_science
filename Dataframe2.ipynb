{
 "cells": [
  {
   "cell_type": "code",
   "execution_count": 9,
   "id": "06a81549-0d63-43b5-9a1e-6ea4e908f29a",
   "metadata": {},
   "outputs": [],
   "source": [
    "from pyspark.sql import SparkSession\n",
    "from pyspark.sql.functions import min"
   ]
  },
  {
   "cell_type": "code",
   "execution_count": 2,
   "id": "48a541dc-8856-4d17-a435-a6a92d22b78f",
   "metadata": {},
   "outputs": [],
   "source": [
    "spark = SparkSession.builder.appName(\"Dataframe\").getOrCreate()"
   ]
  },
  {
   "cell_type": "code",
   "execution_count": 4,
   "id": "f6ac6740-6c30-463a-af9c-db98edd62303",
   "metadata": {},
   "outputs": [
    {
     "data": {
      "text/html": [
       "\n",
       "            <div>\n",
       "                <p><b>SparkSession - in-memory</b></p>\n",
       "                \n",
       "        <div>\n",
       "            <p><b>SparkContext</b></p>\n",
       "\n",
       "            <p><a href=\"http://DESKTOP-FCPPJHI.mshome.net:4040\">Spark UI</a></p>\n",
       "\n",
       "            <dl>\n",
       "              <dt>Version</dt>\n",
       "                <dd><code>v3.5.0</code></dd>\n",
       "              <dt>Master</dt>\n",
       "                <dd><code>local[*]</code></dd>\n",
       "              <dt>AppName</dt>\n",
       "                <dd><code>Dataframe</code></dd>\n",
       "            </dl>\n",
       "        </div>\n",
       "        \n",
       "            </div>\n",
       "        "
      ],
      "text/plain": [
       "<pyspark.sql.session.SparkSession at 0x2190efd85e0>"
      ]
     },
     "execution_count": 4,
     "metadata": {},
     "output_type": "execute_result"
    }
   ],
   "source": [
    "spark"
   ]
  },
  {
   "cell_type": "code",
   "execution_count": 5,
   "id": "eec5332e-f9c1-493f-a8cf-a3e8b7fd33f4",
   "metadata": {},
   "outputs": [],
   "source": [
    "df = spark.read.csv(\"student.csv\", header=True, inferSchema=True)"
   ]
  },
  {
   "cell_type": "code",
   "execution_count": 6,
   "id": "a7568935-96a1-4c7a-bd4d-55e34f6d18c7",
   "metadata": {},
   "outputs": [
    {
     "name": "stdout",
     "output_type": "stream",
     "text": [
      "+-------+----+--------+-----+\n",
      "|   Name| Age|Subjects|Marks|\n",
      "+-------+----+--------+-----+\n",
      "|   Jeet|  30|    Math|   40|\n",
      "|   Sonu|  50|    Math|   45|\n",
      "| Shivam|  23|    Math|   35|\n",
      "|   NULL|  34|    Math| NULL|\n",
      "| Ramesh|NULL|    NULL|   45|\n",
      "|Shubham|  34|    Math| NULL|\n",
      "+-------+----+--------+-----+\n",
      "\n"
     ]
    }
   ],
   "source": [
    "df.show()"
   ]
  },
  {
   "cell_type": "code",
   "execution_count": 9,
   "id": "97ed6741-2084-4f85-96a1-a5145c1b4346",
   "metadata": {},
   "outputs": [
    {
     "name": "stdout",
     "output_type": "stream",
     "text": [
      "+---+--------+-----+\n",
      "|Age|Subjects|Marks|\n",
      "+---+--------+-----+\n",
      "| 30|    Math|   40|\n",
      "| 50|    Math|   45|\n",
      "| 23|    Math|   35|\n",
      "| 34|    Math| NULL|\n",
      "+---+--------+-----+\n",
      "\n"
     ]
    }
   ],
   "source": [
    "df.drop(\"name\").show()"
   ]
  },
  {
   "cell_type": "code",
   "execution_count": 14,
   "id": "5ad4baa1-058c-446b-9cd8-1bb282f96648",
   "metadata": {},
   "outputs": [
    {
     "name": "stdout",
     "output_type": "stream",
     "text": [
      "+-------+----+--------+-----+\n",
      "|   Name| Age|Subjects|Marks|\n",
      "+-------+----+--------+-----+\n",
      "|   Jeet|  30|    Math|   40|\n",
      "|   Sonu|  50|    Math|   45|\n",
      "| Shivam|  23|    Math|   35|\n",
      "|   NULL|  34|    Math| NULL|\n",
      "| Ramesh|NULL|    NULL|   45|\n",
      "|Shubham|  34|    Math| NULL|\n",
      "+-------+----+--------+-----+\n",
      "\n"
     ]
    }
   ],
   "source": [
    "df.show()"
   ]
  },
  {
   "cell_type": "code",
   "execution_count": 15,
   "id": "eca567ec-16f1-4a6d-97cb-8eb94ec35dbd",
   "metadata": {},
   "outputs": [
    {
     "name": "stdout",
     "output_type": "stream",
     "text": [
      "+------+---+--------+-----+\n",
      "|  Name|Age|Subjects|Marks|\n",
      "+------+---+--------+-----+\n",
      "|  Jeet| 30|    Math|   40|\n",
      "|  Sonu| 50|    Math|   45|\n",
      "|Shivam| 23|    Math|   35|\n",
      "+------+---+--------+-----+\n",
      "\n"
     ]
    }
   ],
   "source": [
    "df.na.drop().show()"
   ]
  },
  {
   "cell_type": "code",
   "execution_count": 48,
   "id": "5be23197-5cee-4108-ab25-3e6f8ae1ab1a",
   "metadata": {},
   "outputs": [
    {
     "name": "stdout",
     "output_type": "stream",
     "text": [
      "+------+---+--------+-----+\n",
      "|  Name|Age|Subjects|Marks|\n",
      "+------+---+--------+-----+\n",
      "|  Jeet| 30|    Math|   40|\n",
      "|  Sonu| 50|    Math|   45|\n",
      "|Shivam| 23|    Math|   35|\n",
      "+------+---+--------+-----+\n",
      "\n"
     ]
    }
   ],
   "source": [
    "df.show()"
   ]
  },
  {
   "cell_type": "code",
   "execution_count": 11,
   "id": "eaab6e33-9700-4e30-b951-25704ba924d9",
   "metadata": {},
   "outputs": [
    {
     "name": "stdout",
     "output_type": "stream",
     "text": [
      "+------+---+--------+-----+\n",
      "|  Name|Age|Subjects|Marks|\n",
      "+------+---+--------+-----+\n",
      "|  Jeet| 30|    Math|   40|\n",
      "|  Sonu| 50|    Math|   45|\n",
      "|Shivam| 23|    Math|   35|\n",
      "+------+---+--------+-----+\n",
      "\n"
     ]
    }
   ],
   "source": [
    "df.na.drop(how=\"any\").show()"
   ]
  },
  {
   "cell_type": "code",
   "execution_count": 12,
   "id": "d65891ca-0722-4606-aecb-b90ea2002c6a",
   "metadata": {},
   "outputs": [
    {
     "name": "stdout",
     "output_type": "stream",
     "text": [
      "+-------+----+--------+-----+\n",
      "|   Name| Age|Subjects|Marks|\n",
      "+-------+----+--------+-----+\n",
      "|   Jeet|  30|    Math|   40|\n",
      "|   Sonu|  50|    Math|   45|\n",
      "| Shivam|  23|    Math|   35|\n",
      "|   NULL|  34|    Math| NULL|\n",
      "| Ramesh|NULL|    NULL|   45|\n",
      "|Shubham|  34|    Math| NULL|\n",
      "+-------+----+--------+-----+\n",
      "\n"
     ]
    }
   ],
   "source": [
    "df.show()"
   ]
  },
  {
   "cell_type": "code",
   "execution_count": 15,
   "id": "78188e5d-aad4-48a1-8b35-3ab7598b936f",
   "metadata": {},
   "outputs": [
    {
     "name": "stdout",
     "output_type": "stream",
     "text": [
      "+-------+---+--------+-----+\n",
      "|   Name|Age|Subjects|Marks|\n",
      "+-------+---+--------+-----+\n",
      "|   Jeet| 30|    Math|   40|\n",
      "|   Sonu| 50|    Math|   45|\n",
      "| Shivam| 23|    Math|   35|\n",
      "|Shubham| 34|    Math| NULL|\n",
      "+-------+---+--------+-----+\n",
      "\n"
     ]
    }
   ],
   "source": [
    "df.na.drop(how=\"any\", thresh=3).show()"
   ]
  },
  {
   "cell_type": "code",
   "execution_count": 16,
   "id": "62f21d86-4064-483b-b48a-1927b5ad570e",
   "metadata": {},
   "outputs": [
    {
     "name": "stdout",
     "output_type": "stream",
     "text": [
      "+-------+----+--------+-----+\n",
      "|   Name| Age|Subjects|Marks|\n",
      "+-------+----+--------+-----+\n",
      "|   Jeet|  30|    Math|   40|\n",
      "|   Sonu|  50|    Math|   45|\n",
      "| Shivam|  23|    Math|   35|\n",
      "| Ramesh|NULL|    NULL|   45|\n",
      "|Shubham|  34|    Math| NULL|\n",
      "+-------+----+--------+-----+\n",
      "\n"
     ]
    }
   ],
   "source": [
    "df.na.drop(how=\"any\", subset=[\"Name\"]).show()\n"
   ]
  },
  {
   "cell_type": "code",
   "execution_count": 17,
   "id": "6114fd72-e642-456d-b9a8-681d6229518a",
   "metadata": {},
   "outputs": [
    {
     "name": "stdout",
     "output_type": "stream",
     "text": [
      "+------+----+--------+-----+\n",
      "|  Name| Age|Subjects|Marks|\n",
      "+------+----+--------+-----+\n",
      "|  Jeet|  30|    Math|   40|\n",
      "|  Sonu|  50|    Math|   45|\n",
      "|Shivam|  23|    Math|   35|\n",
      "|Ramesh|NULL|    NULL|   45|\n",
      "+------+----+--------+-----+\n",
      "\n"
     ]
    }
   ],
   "source": [
    "df.na.drop(how=\"any\", subset=[\"Name\",\"Marks\"]).show()"
   ]
  },
  {
   "cell_type": "code",
   "execution_count": 21,
   "id": "0d55f25d-9537-4203-92d0-53143aeb687c",
   "metadata": {},
   "outputs": [
    {
     "name": "stdout",
     "output_type": "stream",
     "text": [
      "+------+---+--------+-----+\n",
      "|  Name|Age|Subjects|Marks|\n",
      "+------+---+--------+-----+\n",
      "|  Jeet| 30|    Math|   40|\n",
      "|  Sonu| 50|    Math|   45|\n",
      "|Shivam| 23|    Math|   35|\n",
      "+------+---+--------+-----+\n",
      "\n"
     ]
    }
   ],
   "source": [
    "df1 = df.na.drop()\n",
    "df1.show()"
   ]
  },
  {
   "cell_type": "code",
   "execution_count": 17,
   "id": "60f8ae5b-4cbc-4b54-b2a8-138bd780a331",
   "metadata": {},
   "outputs": [
    {
     "name": "stdout",
     "output_type": "stream",
     "text": [
      "+-------+---+--------+-----+\n",
      "|   Name|Age|Subjects|Marks|\n",
      "+-------+---+--------+-----+\n",
      "|   Jeet| 30|    Math|   40|\n",
      "|   Sonu| 50|    Math|   45|\n",
      "| Shivam| 23|    Math|   35|\n",
      "|   NULL| 34|    Math|   35|\n",
      "| Ramesh| 23|    NULL|   45|\n",
      "|Shubham| 34|    Math|   35|\n",
      "+-------+---+--------+-----+\n",
      "\n"
     ]
    }
   ],
   "source": [
    "df1=df\n",
    "# Get the minimum value from the \"value\" column\n",
    "min_value_marks = df1.agg(min(\"Marks\")).first()[0]\n",
    "min_value_age = df1.agg(min(\"Age\")).first()[0]\n",
    "\n",
    "(min_value_marks,min_value_age)\n",
    "\n",
    "# Fill null values with the minimum value\n",
    "filled_df = df1.na.fill(min_value_marks, subset=[\"Marks\"])\n",
    "filled_df = filled_df.na.fill(min_value_age, subset=[\"Age\"])\n",
    "\n",
    "filled_df.show()"
   ]
  },
  {
   "cell_type": "code",
   "execution_count": null,
   "id": "0732d9a7-1d41-4d3a-90b1-a35593edc081",
   "metadata": {},
   "outputs": [],
   "source": []
  },
  {
   "cell_type": "code",
   "execution_count": null,
   "id": "c391151e-ef05-4247-8e3f-db27a3e41a0d",
   "metadata": {},
   "outputs": [],
   "source": []
  },
  {
   "cell_type": "code",
   "execution_count": null,
   "id": "e6c12a24-cc2d-4ceb-8a0c-56350c6da5f6",
   "metadata": {},
   "outputs": [],
   "source": []
  },
  {
   "cell_type": "code",
   "execution_count": null,
   "id": "13c0db95-c73f-4f59-8768-5cea4366a2a2",
   "metadata": {},
   "outputs": [],
   "source": []
  }
 ],
 "metadata": {
  "kernelspec": {
   "display_name": "venv",
   "language": "python",
   "name": "venv"
  },
  "language_info": {
   "codemirror_mode": {
    "name": "ipython",
    "version": 3
   },
   "file_extension": ".py",
   "mimetype": "text/x-python",
   "name": "python",
   "nbconvert_exporter": "python",
   "pygments_lexer": "ipython3",
   "version": "3.8.10"
  }
 },
 "nbformat": 4,
 "nbformat_minor": 5
}
