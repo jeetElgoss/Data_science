{
 "cells": [
  {
   "cell_type": "markdown",
   "id": "b7200cf7-5098-4e22-845d-f2ae957a088b",
   "metadata": {},
   "source": [
    "Word count"
   ]
  },
  {
   "cell_type": "code",
   "execution_count": 34,
   "id": "0ef04984-9362-4264-b326-171015b5add2",
   "metadata": {},
   "outputs": [],
   "source": [
    "from pyspark.sql import SparkSession\n",
    "from pyspark.sql.functions import explode, col, split,lower,sum"
   ]
  },
  {
   "cell_type": "code",
   "execution_count": 2,
   "id": "97bb0579-a408-4093-80f9-2c345ea8d358",
   "metadata": {},
   "outputs": [],
   "source": [
    "spark = SparkSession.builder.appName(\"word count\").getOrCreate()"
   ]
  },
  {
   "cell_type": "code",
   "execution_count": 35,
   "id": "f25f882e-6cbb-4510-8e6d-1424263c3c45",
   "metadata": {},
   "outputs": [
    {
     "name": "stdout",
     "output_type": "stream",
     "text": [
      "+-----------+-----+\n",
      "|       word|count|\n",
      "+-----------+-----+\n",
      "|       code|    1|\n",
      "|        you|    2|\n",
      "|       more|    1|\n",
      "|        can|    1|\n",
      "|   example.|    1|\n",
      "|        for|    1|\n",
      "|      this:|    1|\n",
      "|    world!”|    1|\n",
      "|         in|    2|\n",
      "|      count|    1|\n",
      "|      lines|    1|\n",
      "|   bigdata:|    1|\n",
      "|       your|    1|\n",
      "|demonstrate|    1|\n",
      "|      makes|    1|\n",
      "|         it|    3|\n",
      "|      let’s|    1|\n",
      "|       have|    2|\n",
      "|   possible|    1|\n",
      "|      spark|    2|\n",
      "+-----------+-----+\n",
      "only showing top 20 rows\n",
      "\n",
      "+----------+\n",
      "|sum(count)|\n",
      "+----------+\n",
      "|        62|\n",
      "+----------+\n",
      "\n"
     ]
    }
   ],
   "source": [
    "df = spark.read.text(\"testData.txt\")\n",
    "df.select('value')\n",
    "# Tokenize words and convert to lowercase\n",
    "words = df.select(explode(split(lower(col(\"value\")), \"\\s+\")).alias(\"word\"))\n",
    "count = words.groupBy(col('word')).count()\n",
    "count.show()\n",
    "count.agg(sum('count')).show()\n"
   ]
  },
  {
   "cell_type": "code",
   "execution_count": null,
   "id": "3a03b491-ab4d-4acd-aa3b-3a0619c90aee",
   "metadata": {},
   "outputs": [],
   "source": [
    "def sum(x,y):\n",
    "    return x+y"
   ]
  },
  {
   "cell_type": "code",
   "execution_count": null,
   "id": "5399a445-d700-4d00-adc9-ed05622ec5f9",
   "metadata": {},
   "outputs": [],
   "source": []
  }
 ],
 "metadata": {
  "kernelspec": {
   "display_name": "venv",
   "language": "python",
   "name": "venv"
  },
  "language_info": {
   "codemirror_mode": {
    "name": "ipython",
    "version": 3
   },
   "file_extension": ".py",
   "mimetype": "text/x-python",
   "name": "python",
   "nbconvert_exporter": "python",
   "pygments_lexer": "ipython3",
   "version": "3.8.10"
  }
 },
 "nbformat": 4,
 "nbformat_minor": 5
}
