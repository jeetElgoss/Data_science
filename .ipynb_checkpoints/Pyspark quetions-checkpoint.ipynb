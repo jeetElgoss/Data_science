{
 "cells": [
  {
   "cell_type": "markdown",
   "id": "2772e9fa-97cd-41f8-83dd-ac596bef5725",
   "metadata": {},
   "source": [
    "Questions:\n",
    "Q1 - What is PySpark, and how does it relate to Apache Spark?\n",
    "Q2 - \r\n",
    "Explain the basic architecture of PySpar.Q3 - \r\n",
    "\r\n",
    "How can you create a SparkSession in PySprQ4 - k?\r\n",
    "\r\n",
    "What is a Resilient Distributed Dataset (RDD) in PypQ5 - ark?\r\n",
    "\r\n",
    "Explain the difference between transformations and actions in yQ6 - Spark.\r\n",
    "\r\n",
    "How can you read data from a CSV file usin Q7 - PySpark?\r\n",
    "\r\n",
    "What are the commonly used operations on RDDsiQ8 - n PySpark?\r\n",
    "\r\n",
    "Explain the concept of Spark DataFrame and how it difeQ9 - rs from RDD.\r\n",
    "\r\n",
    "How can you perform data aggregatio Q10 - using PySpark?\r\n",
    "\r\n",
    "What is a Broadcast Variable in PySpark and whenwQ11 - ould you use it?\r\n",
    "\r\n",
    "Explain the concept of a Spark job in thecQ12 - ontext of PySpark.\r\n",
    "\r\n",
    "How does PySpark handle fault tolerance, and what is lieQ13 - age in this context?\r\n",
    "\r\n",
    "What is lazy evaluation in PySpark? How doesiQ14 - t benefit performance?\r\n",
    "\r\n",
    "How can you write data to an external storage system (e.g. Q15 - HDFS, S3) using PySpark?\r\n",
    "\r\n",
    "What are some optimization techniques you can employ in PySpark to improve performance?"
   ]
  }
 ],
 "metadata": {
  "kernelspec": {
   "display_name": "venv",
   "language": "python",
   "name": "venv"
  },
  "language_info": {
   "codemirror_mode": {
    "name": "ipython",
    "version": 3
   },
   "file_extension": ".py",
   "mimetype": "text/x-python",
   "name": "python",
   "nbconvert_exporter": "python",
   "pygments_lexer": "ipython3",
   "version": "3.8.10"
  }
 },
 "nbformat": 4,
 "nbformat_minor": 5
}
