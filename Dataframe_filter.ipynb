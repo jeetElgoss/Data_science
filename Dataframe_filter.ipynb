{
 "cells": [
  {
   "cell_type": "code",
   "execution_count": 21,
   "id": "3798e9a8-4207-4047-8834-dbc99aac3d37",
   "metadata": {},
   "outputs": [],
   "source": [
    "from pyspark.sql import SparkSession\n",
    "from pyspark.sql.functions import col"
   ]
  },
  {
   "cell_type": "code",
   "execution_count": 3,
   "id": "b3648c9f-1a4f-4ab9-9473-438b219207f5",
   "metadata": {},
   "outputs": [],
   "source": [
    "spark = SparkSession.builder.appName(\"Dataframe3\").getOrCreate()"
   ]
  },
  {
   "cell_type": "code",
   "execution_count": 4,
   "id": "9d800612-ab5b-4229-8bec-f9ccf0c2af49",
   "metadata": {},
   "outputs": [],
   "source": [
    "df = spark.read.csv(\"student.csv\",header=True, inferSchema=True)"
   ]
  },
  {
   "cell_type": "code",
   "execution_count": 5,
   "id": "be3841c6-128a-4eb5-9071-3518d3f843c4",
   "metadata": {},
   "outputs": [
    {
     "name": "stdout",
     "output_type": "stream",
     "text": [
      "+-------+----+--------+-----+\n",
      "|   Name| Age|Subjects|Marks|\n",
      "+-------+----+--------+-----+\n",
      "|   Jeet|  30|    Math|   40|\n",
      "|   Sonu|  50|    Math|   45|\n",
      "| Shivam|  23|    Math|   35|\n",
      "|   NULL|  34|    Math| NULL|\n",
      "| Ramesh|NULL|    NULL|   45|\n",
      "|Shubham|  34|    Math| NULL|\n",
      "+-------+----+--------+-----+\n",
      "\n"
     ]
    }
   ],
   "source": [
    "df.show()"
   ]
  },
  {
   "cell_type": "code",
   "execution_count": 23,
   "id": "fdc63c75-ad68-4d2b-a4e7-d3afc3432ae4",
   "metadata": {},
   "outputs": [
    {
     "name": "stdout",
     "output_type": "stream",
     "text": [
      "+------+----+--------+-----+\n",
      "|  Name| Age|Subjects|Marks|\n",
      "+------+----+--------+-----+\n",
      "|  Sonu|  50|    Math|   45|\n",
      "|Ramesh|NULL|    NULL|   45|\n",
      "+------+----+--------+-----+\n",
      "\n"
     ]
    }
   ],
   "source": [
    "df.filter(col('Marks')>40).show()\n"
   ]
  },
  {
   "cell_type": "code",
   "execution_count": 25,
   "id": "3b3272a1-bf7d-4832-808c-68efd8839c59",
   "metadata": {},
   "outputs": [
    {
     "name": "stdout",
     "output_type": "stream",
     "text": [
      "+-------+-----+\n",
      "|   Name|marks|\n",
      "+-------+-----+\n",
      "|   NULL| NULL|\n",
      "|Shubham| NULL|\n",
      "+-------+-----+\n",
      "\n"
     ]
    }
   ],
   "source": [
    "df1 = df.filter(col('Marks').isNull()).select('Name', 'marks').show()\n"
   ]
  },
  {
   "cell_type": "code",
   "execution_count": 26,
   "id": "1715b890-101b-483d-969c-ae3be2966122",
   "metadata": {},
   "outputs": [
    {
     "name": "stdout",
     "output_type": "stream",
     "text": [
      "+------+\n",
      "|  Name|\n",
      "+------+\n",
      "|  Jeet|\n",
      "|  Sonu|\n",
      "|Shivam|\n",
      "|Ramesh|\n",
      "+------+\n",
      "\n"
     ]
    }
   ],
   "source": [
    "df1 = df.filter(~col('Marks').isNull()).select('Name').show()"
   ]
  },
  {
   "cell_type": "code",
   "execution_count": null,
   "id": "d1dbe794-0cfd-480e-b7ea-6e267e7d684b",
   "metadata": {},
   "outputs": [],
   "source": []
  },
  {
   "cell_type": "code",
   "execution_count": null,
   "id": "d1201ab7-a2bc-4591-a44e-2356a98855a0",
   "metadata": {},
   "outputs": [],
   "source": []
  }
 ],
 "metadata": {
  "kernelspec": {
   "display_name": "venv",
   "language": "python",
   "name": "venv"
  },
  "language_info": {
   "codemirror_mode": {
    "name": "ipython",
    "version": 3
   },
   "file_extension": ".py",
   "mimetype": "text/x-python",
   "name": "python",
   "nbconvert_exporter": "python",
   "pygments_lexer": "ipython3",
   "version": "3.8.10"
  }
 },
 "nbformat": 4,
 "nbformat_minor": 5
}
