{
 "cells": [
  {
   "cell_type": "code",
   "execution_count": 3,
   "id": "7e0fd420-99e6-46f9-b835-cee554e8e696",
   "metadata": {},
   "outputs": [],
   "source": [
    "from pyspark.sql import SparkSession "
   ]
  },
  {
   "cell_type": "code",
   "execution_count": 4,
   "id": "c215c057-2e27-4cc9-be9d-c8fd4f21deef",
   "metadata": {},
   "outputs": [],
   "source": [
    "spark = SparkSession.builder.appName(\"DataFrame\").getOrCreate()"
   ]
  },
  {
   "cell_type": "code",
   "execution_count": 8,
   "id": "392572bf-45cf-4e83-b4f7-6bb64a7f7751",
   "metadata": {},
   "outputs": [],
   "source": [
    "df = spark.read.csv(\"student.csv\", header=True, inferSchema=True)"
   ]
  },
  {
   "cell_type": "code",
   "execution_count": 9,
   "id": "dec934bc-31e1-4a80-aa79-811940f10172",
   "metadata": {},
   "outputs": [
    {
     "name": "stdout",
     "output_type": "stream",
     "text": [
      "+------+---+--------+-----+\n",
      "|  Name|Age|Subjects|Marks|\n",
      "+------+---+--------+-----+\n",
      "|  Jeet| 30|    Math|   40|\n",
      "|  Sonu| 50|    Math|   45|\n",
      "|Shivam| 23|    Math|   35|\n",
      "+------+---+--------+-----+\n",
      "\n"
     ]
    }
   ],
   "source": [
    "df.show()"
   ]
  },
  {
   "cell_type": "code",
   "execution_count": 10,
   "id": "709a6fe6-7c5d-4bc6-8b81-4b4115bf8533",
   "metadata": {},
   "outputs": [
    {
     "name": "stdout",
     "output_type": "stream",
     "text": [
      "root\n",
      " |-- Name: string (nullable = true)\n",
      " |-- Age: integer (nullable = true)\n",
      " |-- Subjects: string (nullable = true)\n",
      " |-- Marks: integer (nullable = true)\n",
      "\n"
     ]
    }
   ],
   "source": [
    "df.printSchema()"
   ]
  },
  {
   "cell_type": "code",
   "execution_count": 12,
   "id": "028bc4e1-e34c-466d-b06f-4646377c9eba",
   "metadata": {},
   "outputs": [
    {
     "data": {
      "text/plain": [
       "['Name', 'Age', 'Subjects', 'Marks']"
      ]
     },
     "execution_count": 12,
     "metadata": {},
     "output_type": "execute_result"
    }
   ],
   "source": [
    "df.columns"
   ]
  },
  {
   "cell_type": "code",
   "execution_count": 15,
   "id": "61675926-2eb0-4425-98ff-4bda53b8ad6c",
   "metadata": {},
   "outputs": [
    {
     "name": "stdout",
     "output_type": "stream",
     "text": [
      "+------+\n",
      "|  name|\n",
      "+------+\n",
      "|  Jeet|\n",
      "|  Sonu|\n",
      "|Shivam|\n",
      "+------+\n",
      "\n"
     ]
    }
   ],
   "source": [
    "df.select(\"name\").show()"
   ]
  },
  {
   "cell_type": "code",
   "execution_count": 16,
   "id": "bacdcd5a-4330-4a29-908c-2ce7acab6c02",
   "metadata": {},
   "outputs": [
    {
     "name": "stdout",
     "output_type": "stream",
     "text": [
      "+------+--------+\n",
      "|  Name|Subjects|\n",
      "+------+--------+\n",
      "|  Jeet|    Math|\n",
      "|  Sonu|    Math|\n",
      "|Shivam|    Math|\n",
      "+------+--------+\n",
      "\n"
     ]
    }
   ],
   "source": [
    "df.select([\"Name\",\"Subjects\"]).show()"
   ]
  },
  {
   "cell_type": "code",
   "execution_count": 20,
   "id": "110f7de7-31d2-4d39-82f9-69462ffdd2e4",
   "metadata": {},
   "outputs": [
    {
     "name": "stdout",
     "output_type": "stream",
     "text": [
      "+------+---+--------+-----+-----------+\n",
      "|  Name|Age|Subjects|Marks|StudentName|\n",
      "+------+---+--------+-----+-----------+\n",
      "|  Jeet| 30|    Math|   40|       Jeet|\n",
      "|  Sonu| 50|    Math|   45|       Sonu|\n",
      "|Shivam| 23|    Math|   35|     Shivam|\n",
      "+------+---+--------+-----+-----------+\n",
      "\n"
     ]
    }
   ],
   "source": [
    "df.withColumn(\"StudentName\",df[\"Name\"]).show()"
   ]
  },
  {
   "cell_type": "code",
   "execution_count": 22,
   "id": "19bd4276-8e9b-4c90-a06f-91b1905560bd",
   "metadata": {},
   "outputs": [
    {
     "name": "stdout",
     "output_type": "stream",
     "text": [
      "+-------+---+--------+-----+\n",
      "|NewName|Age|Subjects|Marks|\n",
      "+-------+---+--------+-----+\n",
      "|   Jeet| 30|    Math|   40|\n",
      "|   Sonu| 50|    Math|   45|\n",
      "| Shivam| 23|    Math|   35|\n",
      "+-------+---+--------+-----+\n",
      "\n"
     ]
    }
   ],
   "source": [
    "df.withColumnRenamed(\"Name\",\"NewName\").show()"
   ]
  },
  {
   "cell_type": "code",
   "execution_count": 23,
   "id": "4dc64631-f2a7-4ea9-b5b0-f80366520bed",
   "metadata": {},
   "outputs": [
    {
     "name": "stdout",
     "output_type": "stream",
     "text": [
      "+------+---+-----+\n",
      "|  Name|Age|Marks|\n",
      "+------+---+-----+\n",
      "|  Jeet| 30|   40|\n",
      "|  Sonu| 50|   45|\n",
      "|Shivam| 23|   35|\n",
      "+------+---+-----+\n",
      "\n"
     ]
    }
   ],
   "source": [
    "df.drop(\"Subjects\").show()"
   ]
  },
  {
   "cell_type": "code",
   "execution_count": null,
   "id": "a8d083cc-4c07-4193-a54a-025bedabdde8",
   "metadata": {},
   "outputs": [],
   "source": []
  }
 ],
 "metadata": {
  "kernelspec": {
   "display_name": "venv",
   "language": "python",
   "name": "venv"
  },
  "language_info": {
   "codemirror_mode": {
    "name": "ipython",
    "version": 3
   },
   "file_extension": ".py",
   "mimetype": "text/x-python",
   "name": "python",
   "nbconvert_exporter": "python",
   "pygments_lexer": "ipython3",
   "version": "3.8.10"
  }
 },
 "nbformat": 4,
 "nbformat_minor": 5
}
